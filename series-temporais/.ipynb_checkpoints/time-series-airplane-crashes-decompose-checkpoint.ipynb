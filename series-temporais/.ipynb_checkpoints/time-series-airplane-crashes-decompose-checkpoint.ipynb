{
 "cells": [
  {
   "cell_type": "code",
   "execution_count": 1,
   "id": "f3cd4ee8",
   "metadata": {},
   "outputs": [],
   "source": [
    "# Importação das bibliotecas\n",
    "import pandas as pd\n",
    "import numpy as np\n",
    "import matplotlib.pylab as plt\n",
    "from datetime import datetime\n",
    "#registro de converters para uso do matplotlib\n",
    "from pandas.plotting import register_matplotlib_converters\n",
    "register_matplotlib_converters()"
   ]
  },
  {
   "cell_type": "code",
   "execution_count": 2,
   "id": "eb9c9e7b",
   "metadata": {},
   "outputs": [],
   "source": [
    "dados = pd.read_csv(\"./dados/Airplane_Crashes_and_Fatalities_Since_1908.csv\")"
   ]
  },
  {
   "cell_type": "code",
   "execution_count": 3,
   "id": "fabbee89",
   "metadata": {},
   "outputs": [],
   "source": [
    "dateparser = lambda x: datetime.strftime(x, \"%m-%Y\")"
   ]
  },
  {
   "cell_type": "code",
   "execution_count": 4,
   "id": "d42c529e",
   "metadata": {
    "scrolled": true
   },
   "outputs": [
    {
     "data": {
      "text/plain": [
       "DatetimeIndex(['1908-09-01', '1912-07-01', '1913-08-01', '1913-09-01',\n",
       "               '1913-10-01', '1915-03-01', '1915-09-01', '1916-07-01',\n",
       "               '1916-09-01', '1916-10-01',\n",
       "               ...\n",
       "               '2009-04-01', '2009-04-01', '2009-04-01', '2009-04-01',\n",
       "               '2009-05-01', '2009-05-01', '2009-05-01', '2009-06-01',\n",
       "               '2009-06-01', '2009-06-01'],\n",
       "              dtype='datetime64[ns]', name='Date', length=5268, freq=None)"
      ]
     },
     "execution_count": 4,
     "metadata": {},
     "output_type": "execute_result"
    }
   ],
   "source": [
    "dados[\"Date\"] =pd.to_datetime(dados[\"Date\"], format=\"%m/%d/%Y\").apply(dateparser)\n",
    "dados[\"Date\"] = pd.DatetimeIndex(dados[\"Date\"])\n",
    "dados.set_index(\"Date\", inplace=True)\n",
    "dados.index"
   ]
  },
  {
   "cell_type": "code",
   "execution_count": 5,
   "id": "d9e7c519",
   "metadata": {},
   "outputs": [
    {
     "data": {
      "text/plain": [
       "DatetimeIndex(['1908-09-01', '1912-07-01', '1913-08-01', '1913-09-01',\n",
       "               '1913-10-01', '1915-03-01', '1915-09-01', '1916-07-01',\n",
       "               '1916-09-01', '1916-10-01',\n",
       "               ...\n",
       "               '2009-04-01', '2009-04-01', '2009-04-01', '2009-04-01',\n",
       "               '2009-05-01', '2009-05-01', '2009-05-01', '2009-06-01',\n",
       "               '2009-06-01', '2009-06-01'],\n",
       "              dtype='datetime64[ns]', name='Date', length=5268, freq=None)"
      ]
     },
     "execution_count": 5,
     "metadata": {},
     "output_type": "execute_result"
    }
   ],
   "source": [
    "dados.index"
   ]
  },
  {
   "cell_type": "code",
   "execution_count": 6,
   "id": "ff2006b2",
   "metadata": {},
   "outputs": [
    {
     "data": {
      "text/html": [
       "<div>\n",
       "<style scoped>\n",
       "    .dataframe tbody tr th:only-of-type {\n",
       "        vertical-align: middle;\n",
       "    }\n",
       "\n",
       "    .dataframe tbody tr th {\n",
       "        vertical-align: top;\n",
       "    }\n",
       "\n",
       "    .dataframe thead th {\n",
       "        text-align: right;\n",
       "    }\n",
       "</style>\n",
       "<table border=\"1\" class=\"dataframe\">\n",
       "  <thead>\n",
       "    <tr style=\"text-align: right;\">\n",
       "      <th></th>\n",
       "      <th>Aboard</th>\n",
       "      <th>Fatalities</th>\n",
       "      <th>Ground</th>\n",
       "    </tr>\n",
       "    <tr>\n",
       "      <th>Date</th>\n",
       "      <th></th>\n",
       "      <th></th>\n",
       "      <th></th>\n",
       "    </tr>\n",
       "  </thead>\n",
       "  <tbody>\n",
       "    <tr>\n",
       "      <th>1908-09-01</th>\n",
       "      <td>2.0</td>\n",
       "      <td>1.0</td>\n",
       "      <td>0.0</td>\n",
       "    </tr>\n",
       "    <tr>\n",
       "      <th>1912-07-01</th>\n",
       "      <td>5.0</td>\n",
       "      <td>5.0</td>\n",
       "      <td>0.0</td>\n",
       "    </tr>\n",
       "    <tr>\n",
       "      <th>1913-08-01</th>\n",
       "      <td>1.0</td>\n",
       "      <td>1.0</td>\n",
       "      <td>0.0</td>\n",
       "    </tr>\n",
       "    <tr>\n",
       "      <th>1913-09-01</th>\n",
       "      <td>20.0</td>\n",
       "      <td>14.0</td>\n",
       "      <td>0.0</td>\n",
       "    </tr>\n",
       "    <tr>\n",
       "      <th>1913-10-01</th>\n",
       "      <td>30.0</td>\n",
       "      <td>30.0</td>\n",
       "      <td>0.0</td>\n",
       "    </tr>\n",
       "  </tbody>\n",
       "</table>\n",
       "</div>"
      ],
      "text/plain": [
       "            Aboard  Fatalities  Ground\n",
       "Date                                  \n",
       "1908-09-01     2.0         1.0     0.0\n",
       "1912-07-01     5.0         5.0     0.0\n",
       "1913-08-01     1.0         1.0     0.0\n",
       "1913-09-01    20.0        14.0     0.0\n",
       "1913-10-01    30.0        30.0     0.0"
      ]
     },
     "execution_count": 6,
     "metadata": {},
     "output_type": "execute_result"
    }
   ],
   "source": [
    "dados.drop([ \"Time\",\"Location\", \"Operator\", \"Flight #\", \"Type\", \"Registration\", \"Summary\", \"cn/In\", \"Route\"], axis=1, inplace=True)\n",
    "dados.head()"
   ]
  },
  {
   "cell_type": "code",
   "execution_count": 7,
   "id": "1e4e47f5",
   "metadata": {},
   "outputs": [
    {
     "data": {
      "text/plain": [
       "DatetimeIndex(['1908-09-01', '1912-07-01', '1913-08-01', '1913-09-01',\n",
       "               '1913-10-01', '1915-03-01', '1915-09-01', '1916-07-01',\n",
       "               '1916-09-01', '1916-10-01',\n",
       "               ...\n",
       "               '2009-04-01', '2009-04-01', '2009-04-01', '2009-04-01',\n",
       "               '2009-05-01', '2009-05-01', '2009-05-01', '2009-06-01',\n",
       "               '2009-06-01', '2009-06-01'],\n",
       "              dtype='datetime64[ns]', name='Date', length=5268, freq=None)"
      ]
     },
     "execution_count": 7,
     "metadata": {},
     "output_type": "execute_result"
    }
   ],
   "source": [
    "dados.index"
   ]
  },
  {
   "cell_type": "code",
   "execution_count": 13,
   "id": "eb4e1c91",
   "metadata": {},
   "outputs": [],
   "source": [
    "periodo = dados.loc[\"2001\":\"2002\"]\n"
   ]
  },
  {
   "cell_type": "code",
   "execution_count": 16,
   "id": "bc7f5000",
   "metadata": {
    "scrolled": true
   },
   "outputs": [
    {
     "data": {
      "text/plain": [
       "[<matplotlib.lines.Line2D at 0x1bef49cea30>]"
      ]
     },
     "execution_count": 16,
     "metadata": {},
     "output_type": "execute_result"
    },
    {
     "data": {
      "image/png": "[encoded data removed]",
      "text/plain": [
       "<Figure size 1200x800 with 1 Axes>"
      ]
     },
     "metadata": {},
     "output_type": "display_data"
    }
   ],
   "source": [
    "plt.figure(figsize=(12,8))\n",
    "plt.plot(\"Aboard\", data=periodo, color=\"b\")\n",
    "# plt.plot(\"Fatalities\", data=periodo, color=\"r\")\n",
    "# plt.plot(\"Ground\", data=periodo, color=\"y\")\n"
   ]
  },
  {
   "cell_type": "code",
   "execution_count": null,
   "id": "0e17c75e",
   "metadata": {},
   "outputs": [],
   "source": []
  },
  {
   "cell_type": "code",
   "execution_count": null,
   "id": "1b4ee99f",
   "metadata": {},
   "outputs": [],
   "source": []
  }
 ],
 "metadata": {
  "kernelspec": {
   "display_name": "Python 3 (ipykernel)",
   "language": "python",
   "name": "python3"
  },
  "language_info": {
   "codemirror_mode": {
    "name": "ipython",
    "version": 3
   },
   "file_extension": ".py",
   "mimetype": "text/x-python",
   "name": "python",
   "nbconvert_exporter": "python",
   "pygments_lexer": "ipython3",
   "version": "3.9.0"
  }
 },
 "nbformat": 4,
 "nbformat_minor": 5
}
