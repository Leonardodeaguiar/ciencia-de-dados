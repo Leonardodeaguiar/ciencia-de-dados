{
 "cells": [
  {
   "cell_type": "code",
   "execution_count": 1,
   "id": "f3cd4ee8",
   "metadata": {},
   "outputs": [],
   "source": [
    "# Importação das bibliotecas\n",
    "import pandas as pd\n",
    "import numpy as np\n",
    "import matplotlib.pylab as plt\n",
    "from datetime import datetime\n",
    "from statsmodels.tsa.seasonal import seasonal_decompose\n",
    "#registro de converters para uso do matplotlib\n",
    "from pandas.plotting import register_matplotlib_converters\n",
    "register_matplotlib_converters()\n",
    "from pmdarima.arima import auto_arima"
   ]
  },
  {
   "cell_type": "code",
   "execution_count": 2,
   "id": "eb9c9e7b",
   "metadata": {},
   "outputs": [
    {
     "data": {
      "text/html": [
       "<div>\n",
       "<style scoped>\n",
       "    .dataframe tbody tr th:only-of-type {\n",
       "        vertical-align: middle;\n",
       "    }\n",
       "\n",
       "    .dataframe tbody tr th {\n",
       "        vertical-align: top;\n",
       "    }\n",
       "\n",
       "    .dataframe thead th {\n",
       "        text-align: right;\n",
       "    }\n",
       "</style>\n",
       "<table border=\"1\" class=\"dataframe\">\n",
       "  <thead>\n",
       "    <tr style=\"text-align: right;\">\n",
       "      <th></th>\n",
       "      <th>Time</th>\n",
       "      <th>Location</th>\n",
       "      <th>Operator</th>\n",
       "      <th>Flight #</th>\n",
       "      <th>Route</th>\n",
       "      <th>Type</th>\n",
       "      <th>Registration</th>\n",
       "      <th>cn/In</th>\n",
       "      <th>Aboard</th>\n",
       "      <th>Fatalities</th>\n",
       "      <th>Ground</th>\n",
       "      <th>Summary</th>\n",
       "    </tr>\n",
       "    <tr>\n",
       "      <th>Date</th>\n",
       "      <th></th>\n",
       "      <th></th>\n",
       "      <th></th>\n",
       "      <th></th>\n",
       "      <th></th>\n",
       "      <th></th>\n",
       "      <th></th>\n",
       "      <th></th>\n",
       "      <th></th>\n",
       "      <th></th>\n",
       "      <th></th>\n",
       "      <th></th>\n",
       "    </tr>\n",
       "  </thead>\n",
       "  <tbody>\n",
       "    <tr>\n",
       "      <th>1908-09-30</th>\n",
       "      <td>17:18</td>\n",
       "      <td>Fort Myer, Virginia</td>\n",
       "      <td>Military - U.S. Army</td>\n",
       "      <td>None</td>\n",
       "      <td>Demonstration</td>\n",
       "      <td>Wright Flyer III</td>\n",
       "      <td>None</td>\n",
       "      <td>1</td>\n",
       "      <td>2.0</td>\n",
       "      <td>1.0</td>\n",
       "      <td>0.0</td>\n",
       "      <td>During a demonstration flight, a U.S. Army fly...</td>\n",
       "    </tr>\n",
       "    <tr>\n",
       "      <th>1908-10-31</th>\n",
       "      <td>None</td>\n",
       "      <td>None</td>\n",
       "      <td>None</td>\n",
       "      <td>None</td>\n",
       "      <td>None</td>\n",
       "      <td>None</td>\n",
       "      <td>None</td>\n",
       "      <td>None</td>\n",
       "      <td>NaN</td>\n",
       "      <td>NaN</td>\n",
       "      <td>NaN</td>\n",
       "      <td>None</td>\n",
       "    </tr>\n",
       "    <tr>\n",
       "      <th>1908-11-30</th>\n",
       "      <td>None</td>\n",
       "      <td>None</td>\n",
       "      <td>None</td>\n",
       "      <td>None</td>\n",
       "      <td>None</td>\n",
       "      <td>None</td>\n",
       "      <td>None</td>\n",
       "      <td>None</td>\n",
       "      <td>NaN</td>\n",
       "      <td>NaN</td>\n",
       "      <td>NaN</td>\n",
       "      <td>None</td>\n",
       "    </tr>\n",
       "    <tr>\n",
       "      <th>1908-12-31</th>\n",
       "      <td>None</td>\n",
       "      <td>None</td>\n",
       "      <td>None</td>\n",
       "      <td>None</td>\n",
       "      <td>None</td>\n",
       "      <td>None</td>\n",
       "      <td>None</td>\n",
       "      <td>None</td>\n",
       "      <td>NaN</td>\n",
       "      <td>NaN</td>\n",
       "      <td>NaN</td>\n",
       "      <td>None</td>\n",
       "    </tr>\n",
       "    <tr>\n",
       "      <th>1909-01-31</th>\n",
       "      <td>None</td>\n",
       "      <td>None</td>\n",
       "      <td>None</td>\n",
       "      <td>None</td>\n",
       "      <td>None</td>\n",
       "      <td>None</td>\n",
       "      <td>None</td>\n",
       "      <td>None</td>\n",
       "      <td>NaN</td>\n",
       "      <td>NaN</td>\n",
       "      <td>NaN</td>\n",
       "      <td>None</td>\n",
       "    </tr>\n",
       "    <tr>\n",
       "      <th>...</th>\n",
       "      <td>...</td>\n",
       "      <td>...</td>\n",
       "      <td>...</td>\n",
       "      <td>...</td>\n",
       "      <td>...</td>\n",
       "      <td>...</td>\n",
       "      <td>...</td>\n",
       "      <td>...</td>\n",
       "      <td>...</td>\n",
       "      <td>...</td>\n",
       "      <td>...</td>\n",
       "      <td>...</td>\n",
       "    </tr>\n",
       "    <tr>\n",
       "      <th>2009-02-28</th>\n",
       "      <td>14:00</td>\n",
       "      <td>Manacapuru, Brazil</td>\n",
       "      <td>Aerotaxi Manaus</td>\n",
       "      <td>3407</td>\n",
       "      <td>Coari - Manus</td>\n",
       "      <td>Bandeirante EMB-110P1</td>\n",
       "      <td>PT-SEA</td>\n",
       "      <td>110352</td>\n",
       "      <td>28.0</td>\n",
       "      <td>24.0</td>\n",
       "      <td>0.0</td>\n",
       "      <td>The plane was being used as an air taxi to fer...</td>\n",
       "    </tr>\n",
       "    <tr>\n",
       "      <th>2009-03-31</th>\n",
       "      <td>05:40</td>\n",
       "      <td>Lake Victoria, Uganda</td>\n",
       "      <td>Aerolift</td>\n",
       "      <td>80</td>\n",
       "      <td>Entebbe, Uganda - Mogadishu, Somalia</td>\n",
       "      <td>Ilyushin Il-76T</td>\n",
       "      <td>S9-SAB</td>\n",
       "      <td>073410301</td>\n",
       "      <td>11.0</td>\n",
       "      <td>11.0</td>\n",
       "      <td>0.0</td>\n",
       "      <td>The cargo plane carrying and water purificatio...</td>\n",
       "    </tr>\n",
       "    <tr>\n",
       "      <th>2009-04-30</th>\n",
       "      <td>14:00</td>\n",
       "      <td>Off Crimond, Scotland</td>\n",
       "      <td>Bond Offshore Helicopters</td>\n",
       "      <td>514</td>\n",
       "      <td>Miller field - Aberdeen</td>\n",
       "      <td>Eurocopter AS 332L2 Super Puma 2</td>\n",
       "      <td>A-2703</td>\n",
       "      <td>10538</td>\n",
       "      <td>16.0</td>\n",
       "      <td>16.0</td>\n",
       "      <td>0.0</td>\n",
       "      <td>The helicopter crashed 35 miles East of Crimon...</td>\n",
       "    </tr>\n",
       "    <tr>\n",
       "      <th>2009-05-31</th>\n",
       "      <td>12:00</td>\n",
       "      <td>Near El Alto de Rubio, Venezuela</td>\n",
       "      <td>Military - Venezuelan Army</td>\n",
       "      <td>None</td>\n",
       "      <td>Patrol</td>\n",
       "      <td>Mi-35</td>\n",
       "      <td>EV08114</td>\n",
       "      <td>1982</td>\n",
       "      <td>18.0</td>\n",
       "      <td>18.0</td>\n",
       "      <td>0.0</td>\n",
       "      <td>The helicopter was patrolling along the Venezu...</td>\n",
       "    </tr>\n",
       "    <tr>\n",
       "      <th>2009-06-30</th>\n",
       "      <td>00:15</td>\n",
       "      <td>AtlantiOcean, 570 miles northeast of Natal, Br...</td>\n",
       "      <td>Air France</td>\n",
       "      <td>447</td>\n",
       "      <td>Rio de Janeiro - Paris</td>\n",
       "      <td>Airbus A330-203</td>\n",
       "      <td>F-GZCP</td>\n",
       "      <td>660</td>\n",
       "      <td>228.0</td>\n",
       "      <td>228.0</td>\n",
       "      <td>0.0</td>\n",
       "      <td>The Airbus went missing over the AtlantiOcean ...</td>\n",
       "    </tr>\n",
       "  </tbody>\n",
       "</table>\n",
       "<p>1210 rows × 12 columns</p>\n",
       "</div>"
      ],
      "text/plain": [
       "             Time                                           Location  \\\n",
       "Date                                                                   \n",
       "1908-09-30  17:18                                Fort Myer, Virginia   \n",
       "1908-10-31   None                                               None   \n",
       "1908-11-30   None                                               None   \n",
       "1908-12-31   None                                               None   \n",
       "1909-01-31   None                                               None   \n",
       "...           ...                                                ...   \n",
       "2009-02-28  14:00                                 Manacapuru, Brazil   \n",
       "2009-03-31  05:40                              Lake Victoria, Uganda   \n",
       "2009-04-30  14:00                              Off Crimond, Scotland   \n",
       "2009-05-31  12:00                   Near El Alto de Rubio, Venezuela   \n",
       "2009-06-30  00:15  AtlantiOcean, 570 miles northeast of Natal, Br...   \n",
       "\n",
       "                              Operator Flight #  \\\n",
       "Date                                              \n",
       "1908-09-30        Military - U.S. Army     None   \n",
       "1908-10-31                        None     None   \n",
       "1908-11-30                        None     None   \n",
       "1908-12-31                        None     None   \n",
       "1909-01-31                        None     None   \n",
       "...                                ...      ...   \n",
       "2009-02-28             Aerotaxi Manaus     3407   \n",
       "2009-03-31                    Aerolift       80   \n",
       "2009-04-30   Bond Offshore Helicopters      514   \n",
       "2009-05-31  Military - Venezuelan Army     None   \n",
       "2009-06-30                  Air France      447   \n",
       "\n",
       "                                           Route  \\\n",
       "Date                                               \n",
       "1908-09-30                         Demonstration   \n",
       "1908-10-31                                  None   \n",
       "1908-11-30                                  None   \n",
       "1908-12-31                                  None   \n",
       "1909-01-31                                  None   \n",
       "...                                          ...   \n",
       "2009-02-28                         Coari - Manus   \n",
       "2009-03-31  Entebbe, Uganda - Mogadishu, Somalia   \n",
       "2009-04-30               Miller field - Aberdeen   \n",
       "2009-05-31                                Patrol   \n",
       "2009-06-30                Rio de Janeiro - Paris   \n",
       "\n",
       "                                        Type Registration      cn/In  Aboard  \\\n",
       "Date                                                                           \n",
       "1908-09-30                  Wright Flyer III         None          1     2.0   \n",
       "1908-10-31                              None         None       None     NaN   \n",
       "1908-11-30                              None         None       None     NaN   \n",
       "1908-12-31                              None         None       None     NaN   \n",
       "1909-01-31                              None         None       None     NaN   \n",
       "...                                      ...          ...        ...     ...   \n",
       "2009-02-28             Bandeirante EMB-110P1       PT-SEA     110352    28.0   \n",
       "2009-03-31                   Ilyushin Il-76T       S9-SAB  073410301    11.0   \n",
       "2009-04-30  Eurocopter AS 332L2 Super Puma 2       A-2703      10538    16.0   \n",
       "2009-05-31                             Mi-35     EV08114        1982    18.0   \n",
       "2009-06-30                   Airbus A330-203       F-GZCP        660   228.0   \n",
       "\n",
       "            Fatalities  Ground  \\\n",
       "Date                             \n",
       "1908-09-30         1.0     0.0   \n",
       "1908-10-31         NaN     NaN   \n",
       "1908-11-30         NaN     NaN   \n",
       "1908-12-31         NaN     NaN   \n",
       "1909-01-31         NaN     NaN   \n",
       "...                ...     ...   \n",
       "2009-02-28        24.0     0.0   \n",
       "2009-03-31        11.0     0.0   \n",
       "2009-04-30        16.0     0.0   \n",
       "2009-05-31        18.0     0.0   \n",
       "2009-06-30       228.0     0.0   \n",
       "\n",
       "                                                      Summary  \n",
       "Date                                                           \n",
       "1908-09-30  During a demonstration flight, a U.S. Army fly...  \n",
       "1908-10-31                                               None  \n",
       "1908-11-30                                               None  \n",
       "1908-12-31                                               None  \n",
       "1909-01-31                                               None  \n",
       "...                                                       ...  \n",
       "2009-02-28  The plane was being used as an air taxi to fer...  \n",
       "2009-03-31  The cargo plane carrying and water purificatio...  \n",
       "2009-04-30  The helicopter crashed 35 miles East of Crimon...  \n",
       "2009-05-31  The helicopter was patrolling along the Venezu...  \n",
       "2009-06-30  The Airbus went missing over the AtlantiOcean ...  \n",
       "\n",
       "[1210 rows x 12 columns]"
      ]
     },
     "execution_count": 2,
     "metadata": {},
     "output_type": "execute_result"
    }
   ],
   "source": [
    "dados = pd.read_csv(\"./dados/Airplane_Crashes_and_Fatalities_Since_1908.csv\", index_col=\"Date\", parse_dates=True)\n",
    "dados = dados.resample(\"M\").first()\n",
    "dados"
   ]
  },
  {
   "cell_type": "code",
   "execution_count": 3,
   "id": "d9e7c519",
   "metadata": {
    "scrolled": true
   },
   "outputs": [
    {
     "data": {
      "text/plain": [
       "DatetimeIndex(['1908-09-30', '1908-10-31', '1908-11-30', '1908-12-31',\n",
       "               '1909-01-31', '1909-02-28', '1909-03-31', '1909-04-30',\n",
       "               '1909-05-31', '1909-06-30',\n",
       "               ...\n",
       "               '2008-09-30', '2008-10-31', '2008-11-30', '2008-12-31',\n",
       "               '2009-01-31', '2009-02-28', '2009-03-31', '2009-04-30',\n",
       "               '2009-05-31', '2009-06-30'],\n",
       "              dtype='datetime64[ns]', name='Date', length=1210, freq='M')"
      ]
     },
     "execution_count": 3,
     "metadata": {},
     "output_type": "execute_result"
    }
   ],
   "source": [
    "dados.index"
   ]
  },
  {
   "cell_type": "code",
   "execution_count": 4,
   "id": "d1430030",
   "metadata": {},
   "outputs": [],
   "source": [
    "dados.drop([ \"Time\",\"Location\", \"Operator\", \"Flight #\", \"Type\", \"Registration\", \"Summary\", \"cn/In\", \"Route\"], axis=1, inplace=True)\n"
   ]
  },
  {
   "cell_type": "code",
   "execution_count": 5,
   "id": "ff2006b2",
   "metadata": {},
   "outputs": [
    {
     "data": {
      "text/html": [
       "<div>\n",
       "<style scoped>\n",
       "    .dataframe tbody tr th:only-of-type {\n",
       "        vertical-align: middle;\n",
       "    }\n",
       "\n",
       "    .dataframe tbody tr th {\n",
       "        vertical-align: top;\n",
       "    }\n",
       "\n",
       "    .dataframe thead th {\n",
       "        text-align: right;\n",
       "    }\n",
       "</style>\n",
       "<table border=\"1\" class=\"dataframe\">\n",
       "  <thead>\n",
       "    <tr style=\"text-align: right;\">\n",
       "      <th></th>\n",
       "      <th>Aboard</th>\n",
       "      <th>Fatalities</th>\n",
       "      <th>Ground</th>\n",
       "    </tr>\n",
       "    <tr>\n",
       "      <th>Date</th>\n",
       "      <th></th>\n",
       "      <th></th>\n",
       "      <th></th>\n",
       "    </tr>\n",
       "  </thead>\n",
       "  <tbody>\n",
       "    <tr>\n",
       "      <th>1908-09-30</th>\n",
       "      <td>2.0</td>\n",
       "      <td>1.0</td>\n",
       "      <td>0.0</td>\n",
       "    </tr>\n",
       "    <tr>\n",
       "      <th>1908-10-31</th>\n",
       "      <td>NaN</td>\n",
       "      <td>NaN</td>\n",
       "      <td>NaN</td>\n",
       "    </tr>\n",
       "    <tr>\n",
       "      <th>1908-11-30</th>\n",
       "      <td>NaN</td>\n",
       "      <td>NaN</td>\n",
       "      <td>NaN</td>\n",
       "    </tr>\n",
       "    <tr>\n",
       "      <th>1908-12-31</th>\n",
       "      <td>NaN</td>\n",
       "      <td>NaN</td>\n",
       "      <td>NaN</td>\n",
       "    </tr>\n",
       "    <tr>\n",
       "      <th>1909-01-31</th>\n",
       "      <td>NaN</td>\n",
       "      <td>NaN</td>\n",
       "      <td>NaN</td>\n",
       "    </tr>\n",
       "  </tbody>\n",
       "</table>\n",
       "</div>"
      ],
      "text/plain": [
       "            Aboard  Fatalities  Ground\n",
       "Date                                  \n",
       "1908-09-30     2.0         1.0     0.0\n",
       "1908-10-31     NaN         NaN     NaN\n",
       "1908-11-30     NaN         NaN     NaN\n",
       "1908-12-31     NaN         NaN     NaN\n",
       "1909-01-31     NaN         NaN     NaN"
      ]
     },
     "execution_count": 5,
     "metadata": {},
     "output_type": "execute_result"
    }
   ],
   "source": [
    "dados.head()"
   ]
  },
  {
   "cell_type": "code",
   "execution_count": 6,
   "id": "1e4e47f5",
   "metadata": {
    "scrolled": true
   },
   "outputs": [
    {
     "data": {
      "text/plain": [
       "DatetimeIndex(['1908-09-30', '1908-10-31', '1908-11-30', '1908-12-31',\n",
       "               '1909-01-31', '1909-02-28', '1909-03-31', '1909-04-30',\n",
       "               '1909-05-31', '1909-06-30',\n",
       "               ...\n",
       "               '2008-09-30', '2008-10-31', '2008-11-30', '2008-12-31',\n",
       "               '2009-01-31', '2009-02-28', '2009-03-31', '2009-04-30',\n",
       "               '2009-05-31', '2009-06-30'],\n",
       "              dtype='datetime64[ns]', name='Date', length=1210, freq='M')"
      ]
     },
     "execution_count": 6,
     "metadata": {},
     "output_type": "execute_result"
    }
   ],
   "source": [
    "dados.index"
   ]
  },
  {
   "cell_type": "code",
   "execution_count": 28,
   "id": "c5680182",
   "metadata": {},
   "outputs": [
    {
     "data": {
      "text/plain": [
       "Date\n",
       "1960-01-31      9.0\n",
       "1960-02-29     59.0\n",
       "1960-03-31     13.0\n",
       "1960-04-30     18.0\n",
       "1960-05-31     12.0\n",
       "              ...  \n",
       "1991-08-31     10.0\n",
       "1991-09-30     20.0\n",
       "1991-10-31    135.0\n",
       "1991-11-30     40.0\n",
       "1991-12-31      5.0\n",
       "Freq: M, Name: Aboard, Length: 384, dtype: float64"
      ]
     },
     "execution_count": 28,
     "metadata": {},
     "output_type": "execute_result"
    }
   ],
   "source": [
    "abordo = dados[\"Aboard\"][\"1960\":\"1991\"]\n",
    "abordo.fillna(0)"
   ]
  },
  {
   "cell_type": "code",
   "execution_count": 29,
   "id": "25cdcd85",
   "metadata": {},
   "outputs": [
    {
     "data": {
      "text/plain": [
       "0"
      ]
     },
     "execution_count": 29,
     "metadata": {},
     "output_type": "execute_result"
    }
   ],
   "source": [
    "abordo.apply(lambda x: 1 if x == np.nan else x)\n",
    "abordo.isna().sum()"
   ]
  },
  {
   "cell_type": "code",
   "execution_count": 30,
   "id": "f16b7f0a",
   "metadata": {},
   "outputs": [
    {
     "data": {
      "text/plain": [
       "[<matplotlib.lines.Line2D at 0x2a7de3ad670>]"
      ]
     },
     "execution_count": 30,
     "metadata": {},
     "output_type": "execute_result"
    },
    {
     "data": {
      "image/png": "[encoded data removed]",
      "text/plain": [
       "<Figure size 640x480 with 1 Axes>"
      ]
     },
     "metadata": {},
     "output_type": "display_data"
    }
   ],
   "source": [
    "plt.plot(abordo)"
   ]
  },
  {
   "cell_type": "code",
   "execution_count": 31,
   "id": "3ca9daf2",
   "metadata": {},
   "outputs": [
    {
     "name": "stdout",
     "output_type": "stream",
     "text": [
      " ARIMA(0,0,0)(0,0,0)[1] intercept   : AIC=4152.941, Time=0.01 sec\n",
      " ARIMA(0,0,1)(0,0,0)[1] intercept   : AIC=4149.967, Time=0.08 sec\n",
      " ARIMA(0,0,2)(0,0,0)[1] intercept   : AIC=4149.788, Time=0.08 sec\n",
      " ARIMA(0,0,3)(0,0,0)[1] intercept   : AIC=4150.692, Time=0.13 sec\n",
      " ARIMA(0,0,4)(0,0,0)[1] intercept   : AIC=4152.512, Time=0.16 sec\n",
      " ARIMA(0,0,5)(0,0,0)[1] intercept   : AIC=4153.913, Time=0.19 sec\n",
      " ARIMA(1,0,0)(0,0,0)[1] intercept   : AIC=4149.229, Time=0.02 sec\n",
      " ARIMA(1,0,1)(0,0,0)[1] intercept   : AIC=4149.509, Time=0.12 sec\n",
      " ARIMA(1,0,2)(0,0,0)[1] intercept   : AIC=4151.031, Time=0.17 sec\n",
      " ARIMA(1,0,3)(0,0,0)[1] intercept   : AIC=4152.638, Time=0.12 sec\n",
      " ARIMA(1,0,4)(0,0,0)[1] intercept   : AIC=4154.511, Time=0.15 sec\n",
      " ARIMA(2,0,0)(0,0,0)[1] intercept   : AIC=4149.282, Time=0.03 sec\n",
      " ARIMA(2,0,1)(0,0,0)[1] intercept   : AIC=4151.236, Time=0.10 sec\n",
      " ARIMA(2,0,2)(0,0,0)[1] intercept   : AIC=4153.355, Time=0.21 sec\n",
      " ARIMA(2,0,3)(0,0,0)[1] intercept   : AIC=4152.831, Time=0.36 sec\n",
      " ARIMA(3,0,0)(0,0,0)[1] intercept   : AIC=4150.985, Time=0.08 sec\n",
      " ARIMA(3,0,1)(0,0,0)[1] intercept   : AIC=4152.984, Time=0.10 sec\n",
      " ARIMA(3,0,2)(0,0,0)[1] intercept   : AIC=4154.250, Time=0.16 sec\n",
      " ARIMA(4,0,0)(0,0,0)[1] intercept   : AIC=4152.902, Time=0.10 sec\n",
      " ARIMA(4,0,1)(0,0,0)[1] intercept   : AIC=4154.900, Time=0.15 sec\n",
      " ARIMA(5,0,0)(0,0,0)[1] intercept   : AIC=4153.333, Time=0.13 sec\n",
      "\n",
      "Best model:  ARIMA(1,0,0)(0,0,0)[1] intercept\n",
      "Total fit time: 2.671 seconds\n"
     ]
    }
   ],
   "source": [
    "stepwise_model = auto_arima(abordo, start_p=1, start_q=1, start_d=0, max_q=6, seasonal=True, trace=True, stepwise=False)"
   ]
  },
  {
   "cell_type": "code",
   "execution_count": 32,
   "id": "60cf95d2",
   "metadata": {},
   "outputs": [
    {
     "data": {
      "text/plain": [
       "4149.22873310931"
      ]
     },
     "execution_count": 32,
     "metadata": {},
     "output_type": "execute_result"
    }
   ],
   "source": [
    "# stepwise true: 1297.002747769049\n",
    "stepwise_model.aic()"
   ]
  },
  {
   "cell_type": "code",
   "execution_count": 33,
   "id": "de10f7c1",
   "metadata": {},
   "outputs": [],
   "source": [
    "treino = abordo.loc[\"1950\":\"1990\"]\n",
    "teste = abordo.loc['1991-01-31':'1991-12-31']"
   ]
  },
  {
   "cell_type": "code",
   "execution_count": 34,
   "id": "fafdeb11",
   "metadata": {},
   "outputs": [
    {
     "data": {
      "text/plain": [
       "Date\n",
       "1991-01-31     22.0\n",
       "1991-02-28     99.0\n",
       "1991-03-31     25.0\n",
       "1991-04-30      8.0\n",
       "1991-05-31      8.0\n",
       "1991-06-30      3.0\n",
       "1991-07-31      3.0\n",
       "1991-08-31     10.0\n",
       "1991-09-30     20.0\n",
       "1991-10-31    135.0\n",
       "1991-11-30     40.0\n",
       "1991-12-31      5.0\n",
       "Freq: M, Name: Aboard, dtype: float64"
      ]
     },
     "execution_count": 34,
     "metadata": {},
     "output_type": "execute_result"
    }
   ],
   "source": [
    "teste"
   ]
  },
  {
   "cell_type": "code",
   "execution_count": 35,
   "id": "e6d2fe66",
   "metadata": {},
   "outputs": [
    {
     "data": {
      "text/plain": [
       "Date\n",
       "1960-01-31     9.0\n",
       "1960-02-29    59.0\n",
       "1960-03-31    13.0\n",
       "1960-04-30    18.0\n",
       "1960-05-31    12.0\n",
       "Freq: M, Name: Aboard, dtype: float64"
      ]
     },
     "execution_count": 35,
     "metadata": {},
     "output_type": "execute_result"
    }
   ],
   "source": [
    "treino.head()"
   ]
  },
  {
   "cell_type": "code",
   "execution_count": 36,
   "id": "bdf1b896",
   "metadata": {},
   "outputs": [
    {
     "data": {
      "text/html": [
       "<style>#sk-container-id-2 {color: black;}#sk-container-id-2 pre{padding: 0;}#sk-container-id-2 div.sk-toggleable {background-color: white;}#sk-container-id-2 label.sk-toggleable__label {cursor: pointer;display: block;width: 100%;margin-bottom: 0;padding: 0.3em;box-sizing: border-box;text-align: center;}#sk-container-id-2 label.sk-toggleable__label-arrow:before {content: \"▸\";float: left;margin-right: 0.25em;color: #696969;}#sk-container-id-2 label.sk-toggleable__label-arrow:hover:before {color: black;}#sk-container-id-2 div.sk-estimator:hover label.sk-toggleable__label-arrow:before {color: black;}#sk-container-id-2 div.sk-toggleable__content {max-height: 0;max-width: 0;overflow: hidden;text-align: left;background-color: #f0f8ff;}#sk-container-id-2 div.sk-toggleable__content pre {margin: 0.2em;color: black;border-radius: 0.25em;background-color: #f0f8ff;}#sk-container-id-2 input.sk-toggleable__control:checked~div.sk-toggleable__content {max-height: 200px;max-width: 100%;overflow: auto;}#sk-container-id-2 input.sk-toggleable__control:checked~label.sk-toggleable__label-arrow:before {content: \"▾\";}#sk-container-id-2 div.sk-estimator input.sk-toggleable__control:checked~label.sk-toggleable__label {background-color: #d4ebff;}#sk-container-id-2 div.sk-label input.sk-toggleable__control:checked~label.sk-toggleable__label {background-color: #d4ebff;}#sk-container-id-2 input.sk-hidden--visually {border: 0;clip: rect(1px 1px 1px 1px);clip: rect(1px, 1px, 1px, 1px);height: 1px;margin: -1px;overflow: hidden;padding: 0;position: absolute;width: 1px;}#sk-container-id-2 div.sk-estimator {font-family: monospace;background-color: #f0f8ff;border: 1px dotted black;border-radius: 0.25em;box-sizing: border-box;margin-bottom: 0.5em;}#sk-container-id-2 div.sk-estimator:hover {background-color: #d4ebff;}#sk-container-id-2 div.sk-parallel-item::after {content: \"\";width: 100%;border-bottom: 1px solid gray;flex-grow: 1;}#sk-container-id-2 div.sk-label:hover label.sk-toggleable__label {background-color: #d4ebff;}#sk-container-id-2 div.sk-serial::before {content: \"\";position: absolute;border-left: 1px solid gray;box-sizing: border-box;top: 0;bottom: 0;left: 50%;z-index: 0;}#sk-container-id-2 div.sk-serial {display: flex;flex-direction: column;align-items: center;background-color: white;padding-right: 0.2em;padding-left: 0.2em;position: relative;}#sk-container-id-2 div.sk-item {position: relative;z-index: 1;}#sk-container-id-2 div.sk-parallel {display: flex;align-items: stretch;justify-content: center;background-color: white;position: relative;}#sk-container-id-2 div.sk-item::before, #sk-container-id-2 div.sk-parallel-item::before {content: \"\";position: absolute;border-left: 1px solid gray;box-sizing: border-box;top: 0;bottom: 0;left: 50%;z-index: -1;}#sk-container-id-2 div.sk-parallel-item {display: flex;flex-direction: column;z-index: 1;position: relative;background-color: white;}#sk-container-id-2 div.sk-parallel-item:first-child::after {align-self: flex-end;width: 50%;}#sk-container-id-2 div.sk-parallel-item:last-child::after {align-self: flex-start;width: 50%;}#sk-container-id-2 div.sk-parallel-item:only-child::after {width: 0;}#sk-container-id-2 div.sk-dashed-wrapped {border: 1px dashed gray;margin: 0 0.4em 0.5em 0.4em;box-sizing: border-box;padding-bottom: 0.4em;background-color: white;}#sk-container-id-2 div.sk-label label {font-family: monospace;font-weight: bold;display: inline-block;line-height: 1.2em;}#sk-container-id-2 div.sk-label-container {text-align: center;}#sk-container-id-2 div.sk-container {/* jupyter's `normalize.less` sets `[hidden] { display: none; }` but bootstrap.min.css set `[hidden] { display: none !important; }` so we also need the `!important` here to be able to override the default hidden behavior on the sphinx rendered scikit-learn.org. See: https://github.com/scikit-learn/scikit-learn/issues/21755 */display: inline-block !important;position: relative;}#sk-container-id-2 div.sk-text-repr-fallback {display: none;}</style><div id=\"sk-container-id-2\" class=\"sk-top-container\"><div class=\"sk-text-repr-fallback\"><pre> ARIMA(1,0,0)(0,0,0)[1] intercept</pre><b>In a Jupyter environment, please rerun this cell to show the HTML representation or trust the notebook. <br />On GitHub, the HTML representation is unable to render, please try loading this page with nbviewer.org.</b></div><div class=\"sk-container\" hidden><div class=\"sk-item\"><div class=\"sk-estimator sk-toggleable\"><input class=\"sk-toggleable__control sk-hidden--visually\" id=\"sk-estimator-id-2\" type=\"checkbox\" checked><label for=\"sk-estimator-id-2\" class=\"sk-toggleable__label sk-toggleable__label-arrow\">ARIMA</label><div class=\"sk-toggleable__content\"><pre> ARIMA(1,0,0)(0,0,0)[1] intercept</pre></div></div></div></div></div>"
      ],
      "text/plain": [
       "ARIMA(order=(1, 0, 0), scoring_args={}, seasonal_order=(0, 0, 0, 1),\n",
       "      suppress_warnings=True)"
      ]
     },
     "execution_count": 36,
     "metadata": {},
     "output_type": "execute_result"
    }
   ],
   "source": [
    "stepwise_model.fit(treino)"
   ]
  },
  {
   "cell_type": "code",
   "execution_count": 37,
   "id": "504a447a",
   "metadata": {},
   "outputs": [],
   "source": [
    "futuro = stepwise_model.predict(n_periods=12)"
   ]
  },
  {
   "cell_type": "code",
   "execution_count": 38,
   "id": "56270a67",
   "metadata": {},
   "outputs": [
    {
     "data": {
      "text/plain": [
       "1991-01-31    58.062917\n",
       "1991-02-28    40.332851\n",
       "1991-03-31    38.086447\n",
       "1991-04-30    37.801827\n",
       "1991-05-31    37.765765\n",
       "1991-06-30    37.761196\n",
       "1991-07-31    37.760617\n",
       "1991-08-31    37.760544\n",
       "1991-09-30    37.760535\n",
       "1991-10-31    37.760534\n",
       "1991-11-30    37.760534\n",
       "1991-12-31    37.760533\n",
       "Freq: M, dtype: float64"
      ]
     },
     "execution_count": 38,
     "metadata": {},
     "output_type": "execute_result"
    }
   ],
   "source": [
    "futuro"
   ]
  },
  {
   "cell_type": "code",
   "execution_count": 41,
   "id": "07393bb1",
   "metadata": {},
   "outputs": [],
   "source": [
    "futuro = pd.DataFrame(futuro, index = teste.index, columns=[\"Abordo\"])"
   ]
  },
  {
   "cell_type": "code",
   "execution_count": 42,
   "id": "ec8f8d80",
   "metadata": {},
   "outputs": [
    {
     "data": {
      "text/plain": [
       "<Axes: xlabel='Date'>"
      ]
     },
     "execution_count": 42,
     "metadata": {},
     "output_type": "execute_result"
    },
    {
     "data": {
      "image/png": "[encoded data removed]",
      "text/plain": [
       "<Figure size 640x480 with 1 Axes>"
      ]
     },
     "metadata": {},
     "output_type": "display_data"
    }
   ],
   "source": [
    "pd.concat([teste, futuro], axis=1).plot()"
   ]
  },
  {
   "cell_type": "code",
   "execution_count": null,
   "id": "bf49b3be",
   "metadata": {},
   "outputs": [],
   "source": []
  }
 ],
 "metadata": {
  "kernelspec": {
   "display_name": "Python 3 (ipykernel)",
   "language": "python",
   "name": "python3"
  },
  "language_info": {
   "codemirror_mode": {
    "name": "ipython",
    "version": 3
   },
   "file_extension": ".py",
   "mimetype": "text/x-python",
   "name": "python",
   "nbconvert_exporter": "python",
   "pygments_lexer": "ipython3",
   "version": "3.9.0"
  }
 },
 "nbformat": 4,
 "nbformat_minor": 5
}
